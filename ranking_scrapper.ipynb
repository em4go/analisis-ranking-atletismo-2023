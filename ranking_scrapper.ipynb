{
 "cells": [
  {
   "cell_type": "markdown",
   "metadata": {},
   "source": [
    "# Está hecho para ejecutarse en Windows, con el chromedriver.exe"
   ]
  },
  {
   "cell_type": "code",
   "execution_count": 100,
   "metadata": {},
   "outputs": [],
   "source": [
    "import undetected_chromedriver as uc\n",
    "import pandas as pd\n",
    "import random\n",
    "import time\n",
    "from selenium import webdriver\n",
    "from selenium.webdriver.support.ui import Select\n",
    "# import By from selenium\n",
    "from selenium.webdriver.common.by import By\n",
    "# from selenium.webdriver.common import By\n",
    "# from selenium.webdriver.keys import Keys\n",
    "from bs4 import BeautifulSoup as bs\n",
    "import requests"
   ]
  },
  {
   "cell_type": "code",
   "execution_count": 101,
   "metadata": {},
   "outputs": [],
   "source": [
    "COOKIES_XPATH = '//*[@id=\"cookiesjsr\"]/div/div/div[2]/button[3]'\n",
    "SECTOR_XPATH = '//*[@id=\"edit-type\"]'\n",
    "GENDER_XPATH = '//*[@id=\"edit-gender\"]'\n",
    "EVENT_XPATH = '//*[@id=\"edit-event\"]'\n",
    "CATEGORY_XPATH = '//*[@id=\"edit-category\"]'"
   ]
  },
  {
   "cell_type": "code",
   "execution_count": 115,
   "metadata": {},
   "outputs": [],
   "source": [
    "def get_select_options(driver, xpath, default_value=False):\n",
    "    select_element = driver.find_element(By.XPATH, xpath)\n",
    "    select = Select(select_element)\n",
    "    return select\n",
    "    # if default_value:\n",
    "    #     return select.options[1:]\n",
    "    # return select.options"
   ]
  },
  {
   "cell_type": "code",
   "execution_count": 103,
   "metadata": {},
   "outputs": [],
   "source": [
    "def select_category(driver, index):\n",
    "    category_select = driver.find_element(By.XPATH, CATEGORY_XPATH)\n",
    "    category_select = Select(category_select)\n",
    "    option_list = category_select.options\n",
    "    option_list[index].click()"
   ]
  },
  {
   "cell_type": "code",
   "execution_count": 104,
   "metadata": {},
   "outputs": [],
   "source": [
    "\n",
    "def click_show(driver):\n",
    "    show_ranking_button = driver.find_element(By.XPATH, '//*[@id=\"edit-button\"]')\n",
    "    show_ranking_button.click()"
   ]
  },
  {
   "cell_type": "code",
   "execution_count": 105,
   "metadata": {},
   "outputs": [],
   "source": [
    "def click_all_marks(driver):\n",
    "    top_n = driver.find_element(By.XPATH, '//*[@id=\"ranking_container\"]/div[1]/div/select/option[3]')\n",
    "    top_n.click()"
   ]
  },
  {
   "cell_type": "code",
   "execution_count": 106,
   "metadata": {},
   "outputs": [],
   "source": [
    "def accept_cookies(driver):\n",
    "    cookies_button = driver.find_element(By.XPATH, COOKIES_XPATH)\n",
    "    cookies_button.click()"
   ]
  },
  {
   "cell_type": "code",
   "execution_count": 31,
   "metadata": {},
   "outputs": [],
   "source": [
    "browser = uc.Chrome()"
   ]
  },
  {
   "cell_type": "code",
   "execution_count": 32,
   "metadata": {},
   "outputs": [],
   "source": [
    "browser = uc.Chrome()\n",
    "url = 'https://www.rfearanking.es/ranking'\n",
    "browser.get(url)\n",
    "browser.implicitly_wait(10)\n",
    "time.sleep(10)\n",
    "accept_cookies = browser.find_element(By.XPATH, COOKIES_XPATH)\n",
    "accept_cookies.click()"
   ]
  },
  {
   "cell_type": "code",
   "execution_count": 33,
   "metadata": {},
   "outputs": [],
   "source": [
    "accept_cookies = browser.find_element(By.XPATH, COOKIES_XPATH)\n",
    "accept_cookies.click()"
   ]
  },
  {
   "cell_type": "code",
   "execution_count": 7,
   "metadata": {},
   "outputs": [],
   "source": [
    "genre = browser.find_element('xpath', genres['male'])\n",
    "genre.click()"
   ]
  },
  {
   "cell_type": "code",
   "execution_count": 16,
   "metadata": {},
   "outputs": [],
   "source": [
    "# category = browser.find_element('xpath', '//*[@id=\"edit-category\"]/option[3]')\n",
    "# category.click()"
   ]
  },
  {
   "cell_type": "code",
   "execution_count": 17,
   "metadata": {},
   "outputs": [],
   "source": [
    "event_xpath = '//*[@id=\"edit-event\"]/option[2]'\n",
    "\n",
    "event = browser.find_element('xpath', event_xpath)\n",
    "event.click()\n"
   ]
  },
  {
   "cell_type": "code",
   "execution_count": 20,
   "metadata": {},
   "outputs": [],
   "source": [
    "html = browser.page_source"
   ]
  },
  {
   "cell_type": "code",
   "execution_count": 21,
   "metadata": {},
   "outputs": [],
   "source": [
    "soup = bs(html, 'html.parser')"
   ]
  },
  {
   "cell_type": "code",
   "execution_count": 26,
   "metadata": {},
   "outputs": [],
   "source": [
    "table = soup.find('table', {'class': 'tabla_ranking'})"
   ]
  },
  {
   "cell_type": "code",
   "execution_count": 25,
   "metadata": {},
   "outputs": [
    {
     "data": {
      "text/html": [
       "<div>\n",
       "<style scoped>\n",
       "    .dataframe tbody tr th:only-of-type {\n",
       "        vertical-align: middle;\n",
       "    }\n",
       "\n",
       "    .dataframe tbody tr th {\n",
       "        vertical-align: top;\n",
       "    }\n",
       "\n",
       "    .dataframe thead th {\n",
       "        text-align: right;\n",
       "    }\n",
       "</style>\n",
       "<table border=\"1\" class=\"dataframe\">\n",
       "  <thead>\n",
       "    <tr style=\"text-align: right;\">\n",
       "      <th></th>\n",
       "      <th>RANK</th>\n",
       "      <th>MARCA</th>\n",
       "      <th>ATLETA</th>\n",
       "      <th>CLUB</th>\n",
       "      <th>F.N.</th>\n",
       "      <th>PAÍS</th>\n",
       "      <th>FED.</th>\n",
       "      <th>POS.</th>\n",
       "      <th>CIUDAD</th>\n",
       "      <th>FECHA</th>\n",
       "      <th>Unnamed: 10</th>\n",
       "    </tr>\n",
       "  </thead>\n",
       "  <tbody>\n",
       "    <tr>\n",
       "      <th>0</th>\n",
       "      <td>1</td>\n",
       "      <td>3:39.04</td>\n",
       "      <td>RONALDO OLIVO MERCEDES</td>\n",
       "      <td>Playas de Castellon</td>\n",
       "      <td>08/10/2004</td>\n",
       "      <td>ESP</td>\n",
       "      <td>MAD</td>\n",
       "      <td>13C1</td>\n",
       "      <td>Castellón</td>\n",
       "      <td>14/06/2023</td>\n",
       "      <td>show</td>\n",
       "    </tr>\n",
       "    <tr>\n",
       "      <th>1</th>\n",
       "      <td>2</td>\n",
       "      <td>3:46.64</td>\n",
       "      <td>RUBEN EGEA VIDAL</td>\n",
       "      <td>Alcampo Scorpio 71</td>\n",
       "      <td>28/06/2004</td>\n",
       "      <td>ESP</td>\n",
       "      <td>ARA</td>\n",
       "      <td>7</td>\n",
       "      <td>Huelva</td>\n",
       "      <td>06/06/2023</td>\n",
       "      <td>show</td>\n",
       "    </tr>\n",
       "    <tr>\n",
       "      <th>2</th>\n",
       "      <td>3</td>\n",
       "      <td>3:47.28</td>\n",
       "      <td>ALEIX VIVES ESPLUGAS</td>\n",
       "      <td>FACVAC Valls</td>\n",
       "      <td>27/09/2004</td>\n",
       "      <td>ESP</td>\n",
       "      <td>CAT</td>\n",
       "      <td>3C1</td>\n",
       "      <td>Barcelona-SE</td>\n",
       "      <td>21/06/2023</td>\n",
       "      <td>show</td>\n",
       "    </tr>\n",
       "    <tr>\n",
       "      <th>3</th>\n",
       "      <td>4</td>\n",
       "      <td>3:47.76</td>\n",
       "      <td>ALEX PINTADO AZNAR</td>\n",
       "      <td>UA Terrassa</td>\n",
       "      <td>13/10/2006</td>\n",
       "      <td>ESP</td>\n",
       "      <td>CAT</td>\n",
       "      <td>8C1</td>\n",
       "      <td>Mataró</td>\n",
       "      <td>02/06/2023</td>\n",
       "      <td>show</td>\n",
       "    </tr>\n",
       "    <tr>\n",
       "      <th>4</th>\n",
       "      <td>5</td>\n",
       "      <td>3:47.89</td>\n",
       "      <td>AITOR GARCIA CALVO</td>\n",
       "      <td>Atletismo Alcorcon</td>\n",
       "      <td>15/03/2004</td>\n",
       "      <td>ESP</td>\n",
       "      <td>MAD</td>\n",
       "      <td>4C3</td>\n",
       "      <td>Barcelona</td>\n",
       "      <td>05/07/2023</td>\n",
       "      <td>show</td>\n",
       "    </tr>\n",
       "  </tbody>\n",
       "</table>\n",
       "</div>"
      ],
      "text/plain": [
       "  RANK    MARCA                  ATLETA                 CLUB        F.N. PAÍS  \\\n",
       "0    1  3:39.04  RONALDO OLIVO MERCEDES  Playas de Castellon  08/10/2004  ESP   \n",
       "1    2  3:46.64        RUBEN EGEA VIDAL   Alcampo Scorpio 71  28/06/2004  ESP   \n",
       "2    3  3:47.28    ALEIX VIVES ESPLUGAS         FACVAC Valls  27/09/2004  ESP   \n",
       "3    4  3:47.76      ALEX PINTADO AZNAR          UA Terrassa  13/10/2006  ESP   \n",
       "4    5  3:47.89      AITOR GARCIA CALVO   Atletismo Alcorcon  15/03/2004  ESP   \n",
       "\n",
       "  FED.  POS.        CIUDAD       FECHA Unnamed: 10  \n",
       "0  MAD  13C1     Castellón  14/06/2023        show  \n",
       "1  ARA     7        Huelva  06/06/2023        show  \n",
       "2  CAT   3C1  Barcelona-SE  21/06/2023        show  \n",
       "3  CAT   8C1        Mataró  02/06/2023        show  \n",
       "4  MAD   4C3     Barcelona  05/07/2023        show  "
      ]
     },
     "execution_count": 25,
     "metadata": {},
     "output_type": "execute_result"
    }
   ],
   "source": [
    "\n",
    "df = pd.read_html(str(table))[0]\n",
    "df.head()"
   ]
  },
  {
   "cell_type": "code",
   "execution_count": 31,
   "metadata": {},
   "outputs": [],
   "source": [
    "df.to_parquet('ranking.parquet')"
   ]
  },
  {
   "cell_type": "code",
   "execution_count": 68,
   "metadata": {},
   "outputs": [],
   "source": [
    "# Select options\n",
    "category_select = get_select_options(browser, CATEGORY_XPATH)\n",
    "sector_select = get_select_options(browser, SECTOR_XPATH)\n",
    "gender_select = get_select_options(browser, GENDER_XPATH)\n",
    "event_select = get_select_options(browser, EVENT_XPATH)\n"
   ]
  },
  {
   "cell_type": "code",
   "execution_count": 107,
   "metadata": {},
   "outputs": [],
   "source": [
    "browser = uc.Chrome()\n",
    "url = 'https://www.rfearanking.es/ranking'\n",
    "browser.get(url)\n",
    "browser.implicitly_wait(10)"
   ]
  },
  {
   "cell_type": "code",
   "execution_count": 108,
   "metadata": {},
   "outputs": [],
   "source": [
    "accept_cookies(browser)"
   ]
  },
  {
   "cell_type": "code",
   "execution_count": 119,
   "metadata": {},
   "outputs": [
    {
     "name": "stdout",
     "output_type": "stream",
     "text": [
      "(100, 14) ranking_100m_Hombre.parquet\n",
      "(100, 14) ranking_200m_Hombre.parquet\n",
      "(100, 13) ranking_400m_Hombre.parquet\n",
      "(100, 13) ranking_1.500m_Hombre.parquet\n",
      "(100, 13) ranking_800m_Hombre.parquet\n",
      "(100, 13) ranking_3.000m_Hombre.parquet\n",
      "(91, 13) ranking_5.000m_Hombre.parquet\n",
      "(98, 13) ranking_2.000m Obst. 0,838m_Hombre.parquet\n",
      "(100, 14) ranking_110m.v. (0,914)_Hombre.parquet\n",
      "(93, 13) ranking_400m.v. (0,84)_Hombre.parquet\n",
      "(100, 13) ranking_Altura_Hombre.parquet\n",
      "(100, 13) ranking_Pértiga_Hombre.parquet\n",
      "(100, 14) ranking_Longitud_Hombre.parquet\n",
      "(100, 14) ranking_Triple_Hombre.parquet\n",
      "(100, 13) ranking_Peso (3kg)_Hombre.parquet\n",
      "(100, 13) ranking_Peso (5kg)_Hombre.parquet\n",
      "(100, 13) ranking_Disco (1,5kg)_Hombre.parquet\n",
      "(49, 13) ranking_Martillo (5kg)_Hombre.parquet\n",
      "(100, 13) ranking_Jabalina (700g)_Hombre.parquet\n",
      "(77, 13) ranking_Decatlón Sub18_Hombre.parquet\n",
      "(100, 13) ranking_5.000m Marcha_Hombre.parquet\n",
      "(25, 13) ranking_10.000m Marcha_Hombre.parquet\n",
      "(24, 13) ranking_4x100m_Hombre.parquet\n",
      "(100, 14) ranking_100m_Mujer.parquet\n",
      "(100, 14) ranking_200m_Mujer.parquet\n",
      "(100, 13) ranking_400m_Mujer.parquet\n",
      "(100, 13) ranking_800m_Mujer.parquet\n",
      "(100, 13) ranking_1.500m_Mujer.parquet\n",
      "(100, 13) ranking_3.000m_Mujer.parquet\n",
      "(68, 13) ranking_5.000m_Mujer.parquet\n",
      "(67, 13) ranking_2.000m Obst._Mujer.parquet\n",
      "(100, 14) ranking_100m.v. (0,762)_Mujer.parquet\n",
      "(100, 13) ranking_400m.v. (0,762)_Mujer.parquet\n",
      "(100, 13) ranking_Altura_Mujer.parquet\n",
      "(100, 13) ranking_Pértiga_Mujer.parquet\n",
      "(10, 14) ranking_Longitud_Mujer.parquet\n",
      "(100, 14) ranking_Triple_Mujer.parquet\n",
      "(100, 13) ranking_Peso (3kg)_Mujer.parquet\n",
      "(95, 13) ranking_Peso (4kg)_Mujer.parquet\n",
      "(100, 13) ranking_Disco (1kg)_Mujer.parquet\n",
      "(100, 13) ranking_Martillo (3kg)_Mujer.parquet\n",
      "(63, 13) ranking_Martillo (4kg)_Mujer.parquet\n",
      "(100, 13) ranking_Jabalina (500g)_Mujer.parquet\n",
      "(91, 13) ranking_Jabalina (600g)_Mujer.parquet\n",
      "(79, 13) ranking_Heptatlón Sub18_Mujer.parquet\n",
      "(100, 13) ranking_5.000m marcha pista_Mujer.parquet\n",
      "(46, 13) ranking_4x100m_Mujer.parquet\n",
      "(8, 13) ranking_4x400m_Mujer.parquet\n"
     ]
    }
   ],
   "source": [
    "# Select options\n",
    "gender_select = get_select_options(browser, GENDER_XPATH, False)\n",
    "gender_names = ['Hombre', 'Mujer']\n",
    "category_select = get_select_options(browser, CATEGORY_XPATH)\n",
    "\n",
    "category_index = 3\n",
    "\n",
    "for gender in gender_names:\n",
    "    gender_select.select_by_visible_text(gender)\n",
    "    \n",
    "    time.sleep(2)\n",
    "    category_select.select_by_index(category_index)\n",
    "    time.sleep(2)\n",
    "    sector_select = get_select_options(browser, SECTOR_XPATH, True)\n",
    "    sector_names = [sector.accessible_name for sector in sector_select.options[1:]]\n",
    "\n",
    "    for sector in sector_names:\n",
    "        sector_select.select_by_visible_text(sector)\n",
    "        time.sleep(3)\n",
    "\n",
    "        event_select = get_select_options(browser, EVENT_XPATH, True)\n",
    "        event_names = [event.accessible_name for event in event_select.options[1:]]\n",
    "        for event in event_names:\n",
    "            event_select.select_by_visible_text(event)\n",
    "            time.sleep(2)\n",
    "\n",
    "            click_show(browser)\n",
    "            time.sleep(5)\n",
    "            try:\n",
    "                click_all_marks(browser)\n",
    "            except:\n",
    "                continue\n",
    "            time.sleep(5)\n",
    "\n",
    "            html = browser.page_source\n",
    "            soup = bs(html, 'html.parser')\n",
    "            table = soup.find('table', {'class': 'tabla_ranking'})\n",
    "\n",
    "            df = pd.read_html(str(table))[0]\n",
    "            df['PRUEBA'] = event\n",
    "            df['SECTOR'] = sector\n",
    "\n",
    "        \n",
    "            file_name = f'ranking_{event}_{gender}.parquet'\n",
    "            print(df.shape, file_name)\n",
    "            df.to_parquet(file_name)\n",
    "            time.sleep(1)"
   ]
  },
  {
   "cell_type": "code",
   "execution_count": 59,
   "metadata": {},
   "outputs": [],
   "source": []
  }
 ],
 "metadata": {
  "kernelspec": {
   "display_name": "Python 3",
   "language": "python",
   "name": "python3"
  },
  "language_info": {
   "codemirror_mode": {
    "name": "ipython",
    "version": 3
   },
   "file_extension": ".py",
   "mimetype": "text/x-python",
   "name": "python",
   "nbconvert_exporter": "python",
   "pygments_lexer": "ipython3",
   "version": "3.10.8"
  },
  "orig_nbformat": 4
 },
 "nbformat": 4,
 "nbformat_minor": 2
}
