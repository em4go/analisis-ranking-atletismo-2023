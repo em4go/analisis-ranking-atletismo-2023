{
 "cells": [
  {
   "cell_type": "code",
   "execution_count": 25,
   "metadata": {},
   "outputs": [],
   "source": [
    "import pandas as pd\n",
    "from os import listdir\n",
    "from os.path import isfile, join\n",
    "import numpy as np"
   ]
  },
  {
   "cell_type": "code",
   "execution_count": 26,
   "metadata": {},
   "outputs": [],
   "source": [
    "onlyfiles = [f for f in listdir('./ranking_sub18') if isfile(join('./ranking_sub18/', f))]\n",
    "files = [i for i in onlyfiles if i.endswith('parquet') and ('ranking' in i)]\n",
    "files_male = [i for i in files if 'Hombre' in i]\n",
    "files_female = [i for i in files if 'Mujer' in i]"
   ]
  },
  {
   "cell_type": "code",
   "execution_count": 27,
   "metadata": {},
   "outputs": [
    {
     "data": {
      "text/plain": [
       "['ranking_5.000m Marcha_Hombre.parquet',\n",
       " 'ranking_110m.v. (0,914)_Hombre.parquet',\n",
       " 'ranking_4x100m_Hombre.parquet',\n",
       " 'ranking_Decatlón Sub18_Hombre.parquet',\n",
       " 'ranking_100m_Hombre.parquet',\n",
       " 'ranking_10.000m Marcha_Hombre.parquet',\n",
       " 'ranking_1.500m_Hombre.parquet',\n",
       " 'ranking_Disco (1,5kg)_Hombre.parquet',\n",
       " 'ranking_Peso (5kg)_Hombre.parquet',\n",
       " 'ranking_Peso (3kg)_Hombre.parquet',\n",
       " 'ranking_Pértiga_Hombre.parquet',\n",
       " 'ranking_800m_Hombre.parquet',\n",
       " 'ranking_Altura_Hombre.parquet',\n",
       " 'ranking_3.000m_Hombre.parquet',\n",
       " 'ranking_400m_Hombre.parquet',\n",
       " 'ranking_200m_Hombre.parquet',\n",
       " 'ranking_Martillo (5kg)_Hombre.parquet',\n",
       " 'ranking_Jabalina (700g)_Hombre.parquet',\n",
       " 'ranking_Longitud_Hombre.parquet',\n",
       " 'ranking_400m.v. (0,84)_Hombre.parquet',\n",
       " 'ranking_5.000m_Hombre.parquet',\n",
       " 'ranking_Triple_Hombre.parquet',\n",
       " 'ranking_2.000m Obst. 0,838m_Hombre.parquet']"
      ]
     },
     "execution_count": 27,
     "metadata": {},
     "output_type": "execute_result"
    }
   ],
   "source": [
    "files_male"
   ]
  },
  {
   "cell_type": "code",
   "execution_count": 28,
   "metadata": {},
   "outputs": [],
   "source": [
    "# df = pd.read_parquet(files_male[0])\n",
    "# df2 = pd.read_parquet(files_male[2])\n",
    "# df = pd.concat([df, df2], axis=0, ignore_index=True)\n",
    "# df"
   ]
  },
  {
   "cell_type": "code",
   "execution_count": 29,
   "metadata": {},
   "outputs": [
    {
     "data": {
      "text/plain": [
       "(2057, 16)"
      ]
     },
     "execution_count": 29,
     "metadata": {},
     "output_type": "execute_result"
    }
   ],
   "source": [
    "total_male = []\n",
    "for file in files_male:\n",
    "    df = pd.read_parquet(f'./ranking_sub18/{file}')\n",
    "    total_male.append(df)\n",
    "\n",
    "df_male = pd.concat(total_male, axis=0, ignore_index=True)\n",
    "df_male['SEXO'] = 'Hombre'\n",
    "df_male.shape\n"
   ]
  },
  {
   "cell_type": "code",
   "execution_count": 30,
   "metadata": {},
   "outputs": [
    {
     "data": {
      "text/plain": [
       "(2127, 16)"
      ]
     },
     "execution_count": 30,
     "metadata": {},
     "output_type": "execute_result"
    }
   ],
   "source": [
    "\n",
    "total_female = []\n",
    "for file in files_female:\n",
    "    df = pd.read_parquet(f'./ranking_sub18/{file}')\n",
    "    total_female.append(df)\n",
    "\n",
    "df_female = pd.concat(total_female, axis=0, ignore_index=True)\n",
    "df_female['SEXO'] = 'Mujer'\n",
    "df_female.shape"
   ]
  },
  {
   "cell_type": "code",
   "execution_count": 31,
   "metadata": {},
   "outputs": [
    {
     "name": "stdout",
     "output_type": "stream",
     "text": [
      "Index(['RANK', 'MARCA', 'ATLETA', 'CLUB', 'F.N.', 'PAÍS', 'FED.', 'POS.',\n",
      "       'CIUDAD', 'FECHA', 'Unnamed: 10', 'PRUEBA', 'SECTOR', 'VIENTO',\n",
      "       'Unnamed: 11', 'SEXO'],\n",
      "      dtype='object')\n"
     ]
    },
    {
     "data": {
      "text/html": [
       "<div>\n",
       "<style scoped>\n",
       "    .dataframe tbody tr th:only-of-type {\n",
       "        vertical-align: middle;\n",
       "    }\n",
       "\n",
       "    .dataframe tbody tr th {\n",
       "        vertical-align: top;\n",
       "    }\n",
       "\n",
       "    .dataframe thead th {\n",
       "        text-align: right;\n",
       "    }\n",
       "</style>\n",
       "<table border=\"1\" class=\"dataframe\">\n",
       "  <thead>\n",
       "    <tr style=\"text-align: right;\">\n",
       "      <th></th>\n",
       "      <th>MARCA</th>\n",
       "      <th>ATLETA</th>\n",
       "      <th>CLUB</th>\n",
       "      <th>F.N.</th>\n",
       "      <th>PAÍS</th>\n",
       "      <th>FED.</th>\n",
       "      <th>POS.</th>\n",
       "      <th>CIUDAD</th>\n",
       "      <th>FECHA</th>\n",
       "      <th>PRUEBA</th>\n",
       "      <th>SECTOR</th>\n",
       "      <th>VIENTO</th>\n",
       "      <th>SEXO</th>\n",
       "    </tr>\n",
       "  </thead>\n",
       "  <tbody>\n",
       "    <tr>\n",
       "      <th>0</th>\n",
       "      <td>20:39.93</td>\n",
       "      <td>DANIEL MONFORT MORENO</td>\n",
       "      <td>Playas de Castellon</td>\n",
       "      <td>25/01/2006</td>\n",
       "      <td>ESP</td>\n",
       "      <td>CVA</td>\n",
       "      <td>2</td>\n",
       "      <td>Cornellà de Llobregat</td>\n",
       "      <td>15/04/2023</td>\n",
       "      <td>5.000m Marcha</td>\n",
       "      <td>Marcha</td>\n",
       "      <td>NaN</td>\n",
       "      <td>Hombre</td>\n",
       "    </tr>\n",
       "    <tr>\n",
       "      <th>1</th>\n",
       "      <td>21:46.20</td>\n",
       "      <td>PABLO GONZALEZ VILLARES</td>\n",
       "      <td>At ADASAT Gran Canaria</td>\n",
       "      <td>03/05/2006</td>\n",
       "      <td>ESP</td>\n",
       "      <td>CNR</td>\n",
       "      <td>1</td>\n",
       "      <td>Las Palmas de Gran Canaria</td>\n",
       "      <td>13/05/2023</td>\n",
       "      <td>5.000m Marcha</td>\n",
       "      <td>Marcha</td>\n",
       "      <td>NaN</td>\n",
       "      <td>Hombre</td>\n",
       "    </tr>\n",
       "    <tr>\n",
       "      <th>2</th>\n",
       "      <td>22:05.40</td>\n",
       "      <td>JOAN QUEROL SERRANO</td>\n",
       "      <td>Valencia Club Atletismo</td>\n",
       "      <td>07/12/2006</td>\n",
       "      <td>ESP</td>\n",
       "      <td>CVA</td>\n",
       "      <td>1</td>\n",
       "      <td>Gandía</td>\n",
       "      <td>30/04/2023</td>\n",
       "      <td>5.000m Marcha</td>\n",
       "      <td>Marcha</td>\n",
       "      <td>NaN</td>\n",
       "      <td>Hombre</td>\n",
       "    </tr>\n",
       "    <tr>\n",
       "      <th>3</th>\n",
       "      <td>22:13.26</td>\n",
       "      <td>IVAN MOLINA ESPARTERO</td>\n",
       "      <td>CA Laietania</td>\n",
       "      <td>19/01/2006</td>\n",
       "      <td>ESP</td>\n",
       "      <td>CAT</td>\n",
       "      <td>2</td>\n",
       "      <td>Logroño</td>\n",
       "      <td>24/06/2023</td>\n",
       "      <td>5.000m Marcha</td>\n",
       "      <td>Marcha</td>\n",
       "      <td>NaN</td>\n",
       "      <td>Hombre</td>\n",
       "    </tr>\n",
       "    <tr>\n",
       "      <th>4</th>\n",
       "      <td>22:19.29</td>\n",
       "      <td>CESAR HIDALGO GARCIA</td>\n",
       "      <td>Juventud Guadix</td>\n",
       "      <td>11/02/2007</td>\n",
       "      <td>ESP</td>\n",
       "      <td>AND</td>\n",
       "      <td>1</td>\n",
       "      <td>Nerja</td>\n",
       "      <td>04/01/2023</td>\n",
       "      <td>5.000m Marcha</td>\n",
       "      <td>Marcha</td>\n",
       "      <td>NaN</td>\n",
       "      <td>Hombre</td>\n",
       "    </tr>\n",
       "  </tbody>\n",
       "</table>\n",
       "</div>"
      ],
      "text/plain": [
       "      MARCA                   ATLETA                     CLUB        F.N.  \\\n",
       "0  20:39.93    DANIEL MONFORT MORENO      Playas de Castellon  25/01/2006   \n",
       "1  21:46.20  PABLO GONZALEZ VILLARES   At ADASAT Gran Canaria  03/05/2006   \n",
       "2  22:05.40      JOAN QUEROL SERRANO  Valencia Club Atletismo  07/12/2006   \n",
       "3  22:13.26    IVAN MOLINA ESPARTERO             CA Laietania  19/01/2006   \n",
       "4  22:19.29     CESAR HIDALGO GARCIA          Juventud Guadix  11/02/2007   \n",
       "\n",
       "  PAÍS FED. POS.                      CIUDAD       FECHA         PRUEBA  \\\n",
       "0  ESP  CVA    2       Cornellà de Llobregat  15/04/2023  5.000m Marcha   \n",
       "1  ESP  CNR    1  Las Palmas de Gran Canaria  13/05/2023  5.000m Marcha   \n",
       "2  ESP  CVA    1                      Gandía  30/04/2023  5.000m Marcha   \n",
       "3  ESP  CAT    2                     Logroño  24/06/2023  5.000m Marcha   \n",
       "4  ESP  AND    1                       Nerja  04/01/2023  5.000m Marcha   \n",
       "\n",
       "   SECTOR VIENTO    SEXO  \n",
       "0  Marcha    NaN  Hombre  \n",
       "1  Marcha    NaN  Hombre  \n",
       "2  Marcha    NaN  Hombre  \n",
       "3  Marcha    NaN  Hombre  \n",
       "4  Marcha    NaN  Hombre  "
      ]
     },
     "execution_count": 31,
     "metadata": {},
     "output_type": "execute_result"
    }
   ],
   "source": [
    "df = pd.concat([df_male, df_female], axis=0, ignore_index=True)\n",
    "print(df.columns)\n",
    "df.drop(columns=['Unnamed: 10', 'Unnamed: 11', 'RANK'], inplace=True)\n",
    "df.head()"
   ]
  },
  {
   "cell_type": "code",
   "execution_count": 32,
   "metadata": {},
   "outputs": [
    {
     "data": {
      "text/html": [
       "<div>\n",
       "<style scoped>\n",
       "    .dataframe tbody tr th:only-of-type {\n",
       "        vertical-align: middle;\n",
       "    }\n",
       "\n",
       "    .dataframe tbody tr th {\n",
       "        vertical-align: top;\n",
       "    }\n",
       "\n",
       "    .dataframe thead th {\n",
       "        text-align: right;\n",
       "    }\n",
       "</style>\n",
       "<table border=\"1\" class=\"dataframe\">\n",
       "  <thead>\n",
       "    <tr style=\"text-align: right;\">\n",
       "      <th></th>\n",
       "      <th>MARCA</th>\n",
       "      <th>ATLETA</th>\n",
       "      <th>CLUB</th>\n",
       "      <th>F.N.</th>\n",
       "      <th>PAÍS</th>\n",
       "      <th>FED.</th>\n",
       "      <th>POS.</th>\n",
       "      <th>CIUDAD</th>\n",
       "      <th>FECHA</th>\n",
       "      <th>PRUEBA</th>\n",
       "      <th>SECTOR</th>\n",
       "      <th>VIENTO</th>\n",
       "      <th>SEXO</th>\n",
       "    </tr>\n",
       "  </thead>\n",
       "  <tbody>\n",
       "    <tr>\n",
       "      <th>355</th>\n",
       "      <td>11.24</td>\n",
       "      <td>LUIS TELLO RAMOS</td>\n",
       "      <td>Alcampo Scorpio 71</td>\n",
       "      <td>23/05/2006</td>\n",
       "      <td>ESP</td>\n",
       "      <td>ARA</td>\n",
       "      <td>3C1</td>\n",
       "      <td>Haslet - (USA)</td>\n",
       "      <td>29/03/2023</td>\n",
       "      <td>100m</td>\n",
       "      <td>Velocidad</td>\n",
       "      <td>-</td>\n",
       "      <td>Hombre</td>\n",
       "    </tr>\n",
       "    <tr>\n",
       "      <th>1354</th>\n",
       "      <td>22.66</td>\n",
       "      <td>LUIS TELLO RAMOS</td>\n",
       "      <td>Alcampo Scorpio 71</td>\n",
       "      <td>23/05/2006</td>\n",
       "      <td>ESP</td>\n",
       "      <td>ARA</td>\n",
       "      <td>3C3</td>\n",
       "      <td>Justin - (USA)</td>\n",
       "      <td>10/03/2023</td>\n",
       "      <td>200m</td>\n",
       "      <td>Velocidad</td>\n",
       "      <td>-</td>\n",
       "      <td>Hombre</td>\n",
       "    </tr>\n",
       "  </tbody>\n",
       "</table>\n",
       "</div>"
      ],
      "text/plain": [
       "      MARCA            ATLETA                CLUB        F.N. PAÍS FED. POS.  \\\n",
       "355   11.24  LUIS TELLO RAMOS  Alcampo Scorpio 71  23/05/2006  ESP  ARA  3C1   \n",
       "1354  22.66  LUIS TELLO RAMOS  Alcampo Scorpio 71  23/05/2006  ESP  ARA  3C3   \n",
       "\n",
       "              CIUDAD       FECHA PRUEBA     SECTOR VIENTO    SEXO  \n",
       "355   Haslet - (USA)  29/03/2023   100m  Velocidad      -  Hombre  \n",
       "1354  Justin - (USA)  10/03/2023   200m  Velocidad      -  Hombre  "
      ]
     },
     "metadata": {},
     "output_type": "display_data"
    }
   ],
   "source": [
    "display(df[df['VIENTO'] == '-'])\n",
    "df['VIENTO'] = df['VIENTO'].replace('-', np.nan)"
   ]
  },
  {
   "cell_type": "code",
   "execution_count": 33,
   "metadata": {},
   "outputs": [],
   "source": [
    "df['MARCA'] = df['MARCA'].astype('str')\n",
    "df['POS.'] = df['POS.'].astype('str')\n",
    "def get_pos(x):\n",
    "    if x == np.nan or x == '-':\n",
    "        return np.nan\n",
    "    pos = ''\n",
    "    i = 0\n",
    "    while i < len(x) and x[i].isdigit():\n",
    "        pos += x[i]\n",
    "        i += 1\n",
    "\n",
    "    return int(pos)\n",
    "\n",
    "df['POS.'] = df['POS.'].apply(get_pos)\n",
    "\n",
    "df['VIENTO'] = df['VIENTO'].astype('float')"
   ]
  },
  {
   "cell_type": "code",
   "execution_count": 62,
   "metadata": {},
   "outputs": [],
   "source": [
    "import re\n",
    "\n",
    "def convertir_marca(marca):\n",
    "    # Eliminar espacios en blanco al inicio y final de la cadena\n",
    "    marca = marca.strip()\n",
    "\n",
    "    # Si la marca está en el formato \"mm:ss.sss\"\n",
    "    if re.match(r'^\\d+:\\d+\\.\\d+$', marca):\n",
    "        minutos, segundos_centesimas = marca.split(':')\n",
    "        segundos, centesimas = segundos_centesimas.split('.')\n",
    "        return float(minutos) * 60 + float(segundos) + float(centesimas) / 100\n",
    "\n",
    "    # Si la marca está en el formato \"sss.sss\"\n",
    "    elif re.match(r'^\\d+\\.\\d+$', marca):\n",
    "        return float(marca)\n",
    "\n",
    "    # Si la marca está en el formato \"mm:ss\"\n",
    "    elif re.match(r'^\\d+:\\d+$', marca):\n",
    "        minutos, segundos = marca.split(':')\n",
    "        return float(minutos) * 60 + float(segundos)\n",
    "\n",
    "    # Si no se puede determinar el formato, retornar None o lanzar una excepción según sea necesario\n",
    "    else:\n",
    "        return marca\n",
    "\n"
   ]
  },
  {
   "cell_type": "code",
   "execution_count": 67,
   "metadata": {},
   "outputs": [],
   "source": [
    "df['MARCA_FLOAT'] = df['MARCA'].apply(convertir_marca)\n",
    "df['MARCA_FLOAT'] = df['MARCA_FLOAT'].astype('float')"
   ]
  },
  {
   "cell_type": "code",
   "execution_count": 70,
   "metadata": {},
   "outputs": [],
   "source": [
    "def get_year(fecha):\n",
    "    if fecha == np.nan:\n",
    "        return np.nan\n",
    "    return fecha.split('/')[-1]"
   ]
  },
  {
   "cell_type": "code",
   "execution_count": 71,
   "metadata": {},
   "outputs": [],
   "source": [
    "df['AÑO'] = df['F.N.'].apply(get_year)"
   ]
  },
  {
   "cell_type": "code",
   "execution_count": 72,
   "metadata": {},
   "outputs": [],
   "source": [
    "df.to_parquet('sub18.parquet')"
   ]
  },
  {
   "cell_type": "code",
   "execution_count": null,
   "metadata": {},
   "outputs": [],
   "source": []
  },
  {
   "cell_type": "code",
   "execution_count": null,
   "metadata": {},
   "outputs": [],
   "source": []
  }
 ],
 "metadata": {
  "kernelspec": {
   "display_name": "Python 3",
   "language": "python",
   "name": "python3"
  },
  "language_info": {
   "codemirror_mode": {
    "name": "ipython",
    "version": 3
   },
   "file_extension": ".py",
   "mimetype": "text/x-python",
   "name": "python",
   "nbconvert_exporter": "python",
   "pygments_lexer": "ipython3",
   "version": "3.10.6"
  },
  "orig_nbformat": 4
 },
 "nbformat": 4,
 "nbformat_minor": 2
}
